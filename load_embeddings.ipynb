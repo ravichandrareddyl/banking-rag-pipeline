{
 "cells": [
  {
   "cell_type": "code",
   "execution_count": 3,
   "metadata": {},
   "outputs": [],
   "source": [
    "__import__('pysqlite3')\n",
    "import sys\n",
    "sys.modules['sqlite3'] = sys.modules.pop('pysqlite3')"
   ]
  },
  {
   "cell_type": "code",
   "execution_count": null,
   "metadata": {},
   "outputs": [],
   "source": [
    "%pip install llama-index-readers-file pymupdf\n",
    "%pip install llama-index-embeddings-huggingface\n",
    "%pip install llama-index-llms-ollama\n",
    "%pip install llama-index-vector-stores-chroma"
   ]
  },
  {
   "cell_type": "code",
   "execution_count": 5,
   "metadata": {},
   "outputs": [],
   "source": [
    "#!pip install chromadb\n",
    "import nest_asyncio\n",
    "nest_asyncio.apply()"
   ]
  },
  {
   "cell_type": "code",
   "execution_count": null,
   "metadata": {},
   "outputs": [],
   "source": [
    "# Import the necessary module\n",
    "from dotenv import load_dotenv\n",
    "import os\n",
    "\n",
    "# Load environment variables from the .env file (if present)\n",
    "load_dotenv(override=True)\n",
    "docs_path = os.getenv('DOCS_PATH')\n",
    "ollama_host = os.getenv('OLLAMA_HOST_URL')\n",
    "vectordb_path = os.getenv('VECTOR_DB')\n",
    "print(f\"\"\"\n",
    "    Environment variable are\n",
    "    docs_path = {docs_path}\n",
    "    ollama_host = {ollama_host}\n",
    "    vectordb_path = {vectordb_path}\n",
    "\"\"\")"
   ]
  },
  {
   "cell_type": "code",
   "execution_count": null,
   "metadata": {},
   "outputs": [],
   "source": [
    "\n",
    "from IPython.display import Markdown, display\n",
    "import chromadb\n",
    "from llama_index.core import VectorStoreIndex, SimpleDirectoryReader, PromptTemplate\n",
    "from llama_index.vector_stores.chroma import ChromaVectorStore\n",
    "from llama_index.core import StorageContext"
   ]
  },
  {
   "cell_type": "code",
   "execution_count": 16,
   "metadata": {},
   "outputs": [],
   "source": [
    "# create client and a new collection\n",
    "collections_name=\"rbi-master-directions-new\"\n",
    "chroma_client = chromadb.PersistentClient(path=vectordb_path)\n",
    "#chroma_client.delete_collection(name=collections_name)\n",
    "chroma_collection = chroma_client.get_or_create_collection(name=collections_name)\n",
    "vector_store = ChromaVectorStore(chroma_collection=chroma_collection)\n",
    "storage_context = StorageContext.from_defaults(vector_store=vector_store)"
   ]
  },
  {
   "cell_type": "code",
   "execution_count": 17,
   "metadata": {},
   "outputs": [],
   "source": [
    "# sentence transformers\n",
    "from llama_index.embeddings.huggingface import HuggingFaceEmbedding\n",
    "from llama_index.embeddings.huggingface_optimum import OptimumEmbedding\n",
    "#embed_model = HuggingFaceEmbedding(model_name=\"BAAI/bge-small-en\")\n",
    "local_model_dir = \"./bge_onnx\"\n",
    "embed_model = OptimumEmbedding(folder_name=local_model_dir)"
   ]
  },
  {
   "cell_type": "code",
   "execution_count": 18,
   "metadata": {},
   "outputs": [],
   "source": [
    "from llama_index.core import Settings\n",
    "from llama_index.llms.ollama import Ollama\n",
    "\n",
    "documents = SimpleDirectoryReader(docs_path).load_data()\n",
    "\n",
    "# bge embedding model\n",
    "Settings.embed_model = embed_model\n",
    "\n",
    "llm= Ollama(model=\"llama3\", request_timeout=300.0, base_url=ollama_host)\n",
    "\n",
    "# ollama\n",
    "Settings.llm = llm\n",
    "\n",
    "index = VectorStoreIndex.from_documents(\n",
    "    documents, storage_context=storage_context, embed_model=embed_model\n",
    ")"
   ]
  },
  {
   "cell_type": "code",
   "execution_count": 12,
   "metadata": {},
   "outputs": [],
   "source": [
    "query_engine = index.as_query_engine(similarity_top_k=4)\n",
    "qa_prompt_tmpl_str = (\n",
    "\"Context information is below.\\n\"\n",
    "\"---------------------\\n\"\n",
    "\"{context_str}\\n\"\n",
    "\"---------------------\\n\"\n",
    "\"Given the context information above I want you to think step by step to answer the query in a crisp manner, incase case you don't know the answer say 'I don't know!'.\\n\"\n",
    "\"Query: {query_str}\\n\"\n",
    "\"Answer: \"\n",
    ")\n",
    "qa_prompt_tmpl = PromptTemplate(qa_prompt_tmpl_str)\n",
    "\n",
    "query_engine.update_prompts(\n",
    "    {\"response_synthesizer:text_qa_template\": qa_prompt_tmpl}\n",
    ")"
   ]
  },
  {
   "cell_type": "code",
   "execution_count": 13,
   "metadata": {},
   "outputs": [
    {
     "data": {
      "text/markdown": [
       "Based on the context information provided, I'll try to answer your question step by step.\n",
       "\n",
       "From the text, we can see that there are two types of substandard assets mentioned: one for general and another for unsecured exposures. Let's look at each case:\n",
       "\n",
       "**General Substandard Assets (5.4 i)**\n",
       "\n",
       "According to paragraph 5.4(i), a general provision of **10 percent** on total outstanding should be made without making any allowance for ECGC guarantee cover and securities available.\n",
       "\n",
       "**Unsecured Exposures Classified as 'Substandard' (5.4 ii)**\n",
       "\n",
       "For unsecured exposures classified as 'substandard', an additional provision of **10 per cent** is required, which makes a total of **20 percent** on the outstanding balance.\n",
       "\n",
       "Now, let's summarize: for general substandard assets, the provision percentage is 10%, and for unsecured exposures classified as 'substandard', it's 20%.\n",
       "\n",
       "So, to answer your question:\n",
       "\n",
       "The provision percentage of substandard assets is **10% (general)** or **20% (unsecured exposures)**."
      ],
      "text/plain": [
       "<IPython.core.display.Markdown object>"
      ]
     },
     "metadata": {},
     "output_type": "display_data"
    }
   ],
   "source": [
    "response = query_engine.query(\"What is the provision percentage of sub standard assets?\")\n",
    "display(Markdown(str(response)))"
   ]
  },
  {
   "cell_type": "code",
   "execution_count": 10,
   "metadata": {},
   "outputs": [
    {
     "name": "stdout",
     "output_type": "stream",
     "text": [
      "Based on the provided context information, the asset classification guidelines related to project finance are as follows:\n",
      "\n",
      "4.2.1 Broadly speaking, classification of assets into above categories should be done taking into account the degree of well-defined credit weaknesses and the extent of dependence on collateral security for realisation of dues.\n",
      "\n",
      "4.2.2 Banks should establish appropriate internal systems to eliminate the tendency to delay or postpone the identification of NPAs, especially in respect of high value accounts. The banks may fix a minimum cut off point to decide what would constitute a high value account depending upon their respective business levels.\n",
      "\n",
      "4.2.3 Availability of security / net worth of borrower/ guarantor should not be taken into account for the purpose of treating an advance as NPA or otherwise, except to the extent provided in Para 4.2.9, as income recognition is based on record of recovery.\n",
      "\n",
      "4.2.9 Accounts with temporary deficiencies: The classification of an asset as NPA should be based on the record of recovery. Banks should not classify an advance account as NPA merely due to the existence of some deficiencies which are temporary in nature such as non-availability of adequate drawing power based on the latest available stock statement, balance sheet or other relevant records.\n",
      "\n",
      "11.1 Eligibility criteria for restructuring of advances: Banks may restructure the accounts classified under 'standard', 'sub-standard' and 'doubtful' categories.\n",
      "\n",
      "It is important to note that these guidelines are subject to change based on regulatory updates and changes in economic conditions, and banks should always refer to the most recent version of the guidelines for accurate information.\n"
     ]
    }
   ],
   "source": [
    "response = query_engine.query(\"what are the asset classification guidelines related to project finance?\")\n",
    "print(response)"
   ]
  },
  {
   "cell_type": "code",
   "execution_count": 11,
   "metadata": {},
   "outputs": [
    {
     "name": "stdout",
     "output_type": "stream",
     "text": [
      "Based on the provided context information, the provision percentage for doubtful assets is 100%.\n"
     ]
    }
   ],
   "source": [
    "response = query_engine.query(\"What is the provision percentage of doubtful assets?\")\n",
    "print(response)"
   ]
  },
  {
   "cell_type": "code",
   "execution_count": 12,
   "metadata": {},
   "outputs": [
    {
     "name": "stdout",
     "output_type": "stream",
     "text": [
      "Yes, there are provisions for standard assets in DBOD-MC on IRAC Norms-2010. According to the document, the provisioning requirements for all types of standard assets stands amended as follows, with effect from November 5, 2009:\n",
      "\n",
      "* Direct advances to agricultural and SME sectors at 0.25%\n",
      "* Advances to Commercial Real Estate (CRE) sector at 1.00%\n",
      "* All other loans and advances not included in (a) and (b) above at 0.40%\n",
      "\n",
      "Additionally, the document states that while the provisions on individual portfolios are required to be calculated at the rates applicable to them, the excess or shortfall in the provisioning, vis-à-vis the position as on any previous date, should be determined on an aggregate basis.\n"
     ]
    }
   ],
   "source": [
    "response = query_engine.query(\"is there any provision for standard assets?\")\n",
    "print(response)"
   ]
  },
  {
   "cell_type": "code",
   "execution_count": 14,
   "metadata": {},
   "outputs": [
    {
     "name": "stdout",
     "output_type": "stream",
     "text": [
      "An account can be classified as substandard when it has remained nonperforming for a period of less than or equal to 12 months from the date of disbursement, according to DBOD-MC on IRAC Norms-2010. This is based on the assumption that the borrower's credit weaknesses are well defined and jeopardize the liquidation of the debt, but there is still a possibility of recovery with adequate provisions being made. The account will be classified as substandard after a period of 12 months from the date of disbursement, as per the IRAC Norms-2010.\n"
     ]
    }
   ],
   "source": [
    "response = query_engine.query(\"when can an account be classified as substandard?\")\n",
    "print(response)"
   ]
  },
  {
   "cell_type": "code",
   "execution_count": 15,
   "metadata": {},
   "outputs": [
    {
     "name": "stdout",
     "output_type": "stream",
     "text": [
      "Based on the given context information, the provision percentage for doubtful assets with both secured and unsecured portions would be 100% for the entire asset. This is because the guidelines provided in DBOD-MC on IRAC Norms-2010 require banks to provide for 100% of the net investment in the lease and the unrealized portion of finance income net of finance charge component for substandard assets, including those with both secured and unsecured portions.\n",
      "\n",
      "Therefore, the provision percentage for doubtful assets would be 100% of the total outstanding balance, which includes both the secured and unsecured portions.\n"
     ]
    }
   ],
   "source": [
    "response = query_engine.query(\"What is the provision percentage incase of doubtful assets if there is secured and unsecured portion ?\")\n",
    "print(response)"
   ]
  }
 ],
 "metadata": {
  "kernelspec": {
   "display_name": "ragenv",
   "language": "python",
   "name": "python3"
  },
  "language_info": {
   "codemirror_mode": {
    "name": "ipython",
    "version": 3
   },
   "file_extension": ".py",
   "mimetype": "text/x-python",
   "name": "python",
   "nbconvert_exporter": "python",
   "pygments_lexer": "ipython3",
   "version": "3.11.5"
  }
 },
 "nbformat": 4,
 "nbformat_minor": 2
}
